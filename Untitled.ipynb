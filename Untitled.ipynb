{
 "cells": [
  {
   "cell_type": "code",
   "execution_count": 1,
   "metadata": {},
   "outputs": [
    {
     "name": "stderr",
     "output_type": "stream",
     "text": [
      "usage: ipykernel_launcher.py [-h] [--decay_reward DECAY_REWARD]\n",
      "                             [--exp_dir EXP_DIR]\n",
      "                             [--itrs_per_decay ITRS_PER_DECAY]\n",
      "                             [--do_curriculum DO_CURRICULUM]\n",
      "                             [--n_envs_start N_ENVS_START]\n",
      "                             [--n_envs_end N_ENVS_END]\n",
      "                             [--n_envs_step N_ENVS_STEP]\n",
      "                             [--load_params_init LOAD_PARAMS_INIT]\n",
      "                             [--exp_name EXP_NAME]\n",
      "                             [--params_filepath PARAMS_FILEPATH]\n",
      "                             [--expert_filepath EXPERT_FILEPATH]\n",
      "                             [--vectorize VECTORIZE] [--n_envs N_ENVS]\n",
      "                             [--normalize_clip_std_multiple NORMALIZE_CLIP_STD_MULTIPLE]\n",
      "                             [--ngsim_filename NGSIM_FILENAME] [--env_H ENV_H]\n",
      "                             [--env_primesteps ENV_PRIMESTEPS]\n",
      "                             [--env_action_repeat ENV_ACTION_REPEAT]\n",
      "                             [--env_multiagent ENV_MULTIAGENT]\n",
      "                             [--env_reward ENV_REWARD]\n",
      "                             [--reward_handler_max_epochs REWARD_HANDLER_MAX_EPOCHS]\n",
      "                             [--reward_handler_recognition_final_scale REWARD_HANDLER_RECOGNITION_FINAL_SCALE]\n",
      "                             [--reward_handler_use_env_rewards REWARD_HANDLER_USE_ENV_REWARDS]\n",
      "                             [--reward_handler_critic_final_scale REWARD_HANDLER_CRITIC_FINAL_SCALE]\n",
      "                             [--use_infogail USE_INFOGAIL]\n",
      "                             [--policy_mean_hidden_layer_dims POLICY_MEAN_HIDDEN_LAYER_DIMS [POLICY_MEAN_HIDDEN_LAYER_DIMS ...]]\n",
      "                             [--policy_std_hidden_layer_dims POLICY_STD_HIDDEN_LAYER_DIMS [POLICY_STD_HIDDEN_LAYER_DIMS ...]]\n",
      "                             [--policy_recurrent POLICY_RECURRENT]\n",
      "                             [--recurrent_hidden_dim RECURRENT_HIDDEN_DIM]\n",
      "                             [--use_critic_replay_memory USE_CRITIC_REPLAY_MEMORY]\n",
      "                             [--n_critic_train_epochs N_CRITIC_TRAIN_EPOCHS]\n",
      "                             [--critic_learning_rate CRITIC_LEARNING_RATE]\n",
      "                             [--critic_dropout_keep_prob CRITIC_DROPOUT_KEEP_PROB]\n",
      "                             [--gradient_penalty GRADIENT_PENALTY]\n",
      "                             [--critic_grad_rescale CRITIC_GRAD_RESCALE]\n",
      "                             [--critic_batch_size CRITIC_BATCH_SIZE]\n",
      "                             [--critic_hidden_layer_dims CRITIC_HIDDEN_LAYER_DIMS [CRITIC_HIDDEN_LAYER_DIMS ...]]\n",
      "                             [--latent_dim LATENT_DIM]\n",
      "                             [--n_recognition_train_epochs N_RECOGNITION_TRAIN_EPOCHS]\n",
      "                             [--scheduler_k SCHEDULER_K]\n",
      "                             [--recognition_learning_rate RECOGNITION_LEARNING_RATE]\n",
      "                             [--recognition_hidden_layer_dims RECOGNITION_HIDDEN_LAYER_DIMS [RECOGNITION_HIDDEN_LAYER_DIMS ...]]\n",
      "                             [--batch_size BATCH_SIZE]\n",
      "                             [--trpo_step_size TRPO_STEP_SIZE] [--n_itr N_ITR]\n",
      "                             [--max_path_length MAX_PATH_LENGTH]\n",
      "                             [--discount DISCOUNT]\n",
      "                             [--validator_render VALIDATOR_RENDER]\n",
      "                             [--render_every RENDER_EVERY]\n",
      "                             [--remove_ngsim_veh REMOVE_NGSIM_VEH]\n",
      "ipykernel_launcher.py: error: unrecognized arguments: -f /Users/zhangzhihao/Library/Jupyter/runtime/kernel-7740d97d-65a0-4b92-99f3-4d255d8f9291.json\n"
     ]
    },
    {
     "ename": "SystemExit",
     "evalue": "2",
     "traceback": [
      "An exception has occurred, use %tb to see the full traceback.\n",
      "\u001b[0;31mSystemExit\u001b[0m\u001b[0;31m:\u001b[0m 2\n"
     ],
     "output_type": "error"
    },
    {
     "name": "stderr",
     "output_type": "stream",
     "text": [
      "/Users/zhangzhihao/anaconda3/envs/rllab3/lib/python3.5/site-packages/IPython/core/interactiveshell.py:2969: UserWarning: To exit: use 'exit', 'quit', or Ctrl-D.\n",
      "  warn(\"To exit: use 'exit', 'quit', or Ctrl-D.\", stacklevel=1)\n"
     ]
    }
   ],
   "source": [
    "from envs.test import run"
   ]
  },
  {
   "cell_type": "code",
   "execution_count": null,
   "metadata": {},
   "outputs": [],
   "source": []
  }
 ],
 "metadata": {
  "kernelspec": {
   "display_name": "Python 3",
   "language": "python",
   "name": "python3"
  },
  "language_info": {
   "codemirror_mode": {
    "name": "ipython",
    "version": 3
   },
   "file_extension": ".py",
   "mimetype": "text/x-python",
   "name": "python",
   "nbconvert_exporter": "python",
   "pygments_lexer": "ipython3",
   "version": "3.5.2"
  },
  "widgets": {
   "state": {},
   "version": "1.1.2"
  }
 },
 "nbformat": 4,
 "nbformat_minor": 2
}
